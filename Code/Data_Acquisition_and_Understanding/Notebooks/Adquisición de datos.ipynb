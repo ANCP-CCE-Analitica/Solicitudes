{
 "cells": [
  {
   "attachments": {},
   "cell_type": "markdown",
   "metadata": {},
   "source": [
    "<div style=\"\n",
    "  padding: 30px;\n",
    "  text-align: center;\" class='row'>\n",
    "<div style=\"float:left;width: 15%;\" class='column'><a href=\"https://www.colombiacompra.gov.co\"><img alt=\"Logo Colombia Compra Eficiente\" id=\"logocce\" src=\"https://www.colombiacompra.gov.co/sites/cce_public/files/Images/logocce.png\" style=\"height: 45px;\"></a></div>\n",
    "    <div style=\"float:left;width: 70%;\" class='column'>\n",
    "        <h1>Solicitudes\n",
    "        </h1> \n",
    "    </div>\n",
    "<div style=\"float:left;width: 15%;\" class='column'><a href=\"https://www.dnp.gov.co/\" target=\"_blank\"><img class=\"float-right\" id=\"logodnp\" src=\"https://www.colombiacompra.gov.co/sites/cce_public/files/logo_dnp.jpg\" style=\"width: 200px;\"></a></div>\n",
    "</div>"
   ]
  },
  {
   "attachments": {},
   "cell_type": "markdown",
   "metadata": {},
   "source": [
    "# Librerias"
   ]
  },
  {
   "cell_type": "code",
   "execution_count": 1,
   "metadata": {},
   "outputs": [
    {
     "name": "stdout",
     "output_type": "stream",
     "text": [
      "Defaulting to user installation because normal site-packages is not writeable\n",
      "Requirement already satisfied: sodapy in c:\\users\\jorge\\appdata\\roaming\\python\\python311\\site-packages (2.2.0)\n",
      "Requirement already satisfied: requests>=2.28.1 in c:\\users\\jorge\\appdata\\roaming\\python\\python311\\site-packages (from sodapy) (2.28.2)\n",
      "Requirement already satisfied: charset-normalizer<4,>=2 in c:\\users\\jorge\\appdata\\roaming\\python\\python311\\site-packages (from requests>=2.28.1->sodapy) (3.0.1)\n",
      "Requirement already satisfied: idna<4,>=2.5 in c:\\users\\jorge\\appdata\\roaming\\python\\python311\\site-packages (from requests>=2.28.1->sodapy) (3.4)\n",
      "Requirement already satisfied: urllib3<1.27,>=1.21.1 in c:\\users\\jorge\\appdata\\roaming\\python\\python311\\site-packages (from requests>=2.28.1->sodapy) (1.26.14)\n",
      "Requirement already satisfied: certifi>=2017.4.17 in c:\\users\\jorge\\appdata\\roaming\\python\\python311\\site-packages (from requests>=2.28.1->sodapy) (2022.12.7)\n"
     ]
    },
    {
     "name": "stderr",
     "output_type": "stream",
     "text": [
      "\n",
      "[notice] A new release of pip is available: 23.0.1 -> 23.1.1\n",
      "[notice] To update, run: python.exe -m pip install --upgrade pip\n"
     ]
    }
   ],
   "source": [
    "! pip install sodapy"
   ]
  },
  {
   "cell_type": "code",
   "execution_count": 5,
   "metadata": {},
   "outputs": [],
   "source": [
    "import pandas as pd\n",
    "import numpy as np\n",
    "# import matplotlib.pyplot as plt\n",
    "# import seaborn as sns\n",
    "import os\n",
    "from sodapy import Socrata\n",
    "import json"
   ]
  },
  {
   "attachments": {},
   "cell_type": "markdown",
   "metadata": {},
   "source": [
    "# Conexión con las bases de SECOP I y SECOP II"
   ]
  },
  {
   "cell_type": "code",
   "execution_count": 12,
   "metadata": {},
   "outputs": [],
   "source": [
    "# SECOP I\n",
    "client = Socrata(\"www.datos.gov.co\", \"z0stE9vAoMEFJLPgelwqYg9TP\",timeout=200000)\n",
    "secop_I_identifier = \"f789-7hwg\"\n",
    "dataset_metadata_secop_I = client.get_metadata(secop_I_identifier)\n",
    "\n",
    "# SECOP II\n",
    "secop_II_identifier = \"jbjy-vk9h\"\n",
    "dataset_metadata_secop_II = client.get_metadata(secop_II_identifier)"
   ]
  },
  {
   "cell_type": "code",
   "execution_count": 21,
   "metadata": {},
   "outputs": [],
   "source": [
    "query = \"\"\"select *\"\"\"\n",
    "# query += \"\"\" where anno_firma_contrato >= '2018'\"\"\"   # Filtro por fecha\n",
    "# query += \"\"\" and detalle_del_objeto_a_contratar like '%solidar%' or\"\"\"  # Filtro por palabra clave\n",
    "# query += \"\"\" detalle_del_objeto_a_contratar like '%ong%' \"\"\"  # Filtro por palabra clave\n",
    "query += \"\"\" limit 100\"\"\"  # Limite de datos a descargar\n",
    "\n",
    "results_secop_I = client.get(secop_I_identifier,content_type=\"json\",query=query)\n",
    "results_secop_I_df = pd.DataFrame.from_records(results_secop_I)\n",
    "\n",
    "results_secop_II = client.get(secop_II_identifier,content_type=\"json\",query=query)\n",
    "results_secop_II_df = pd.DataFrame.from_records(results_secop_II)"
   ]
  },
  {
   "attachments": {},
   "cell_type": "markdown",
   "metadata": {},
   "source": [
    "# Unificación de bases"
   ]
  },
  {
   "cell_type": "code",
   "execution_count": 22,
   "metadata": {},
   "outputs": [],
   "source": [
    "HC=pd.read_csv('..\\..\\..\\Sample_Data\\Raw\\Homologa_columnas.csv')"
   ]
  },
  {
   "cell_type": "code",
   "execution_count": 23,
   "metadata": {},
   "outputs": [],
   "source": [
    "HC=HC[HC['API_DA_S_I'].notna()]\n",
    "HC=HC[HC['API_DA_S_II'].notna()]\n",
    "\n",
    "results_secop_I_df['fuente']='SECOP I'\n",
    "results_secop_I_df=results_secop_I_df[HC['API_DA_S_I']]\n",
    "\n",
    "results_secop_II_df['fuente']='SECOP II'\n",
    "results_secop_II_df=results_secop_II_df[HC['API_DA_S_II']]\n",
    "\n",
    "results_secop_I_df.columns=HC['Unificado']\n",
    "results_secop_II_df.columns=HC['Unificado']"
   ]
  },
  {
   "cell_type": "code",
   "execution_count": 24,
   "metadata": {},
   "outputs": [],
   "source": [
    "Consulta=pd.concat([results_secop_I_df,results_secop_II_df],axis=0)"
   ]
  },
  {
   "cell_type": "code",
   "execution_count": 25,
   "metadata": {},
   "outputs": [
    {
     "data": {
      "text/html": [
       "<div>\n",
       "<style scoped>\n",
       "    .dataframe tbody tr th:only-of-type {\n",
       "        vertical-align: middle;\n",
       "    }\n",
       "\n",
       "    .dataframe tbody tr th {\n",
       "        vertical-align: top;\n",
       "    }\n",
       "\n",
       "    .dataframe thead th {\n",
       "        text-align: right;\n",
       "    }\n",
       "</style>\n",
       "<table border=\"1\" class=\"dataframe\">\n",
       "  <thead>\n",
       "    <tr style=\"text-align: right;\">\n",
       "      <th>Unificado</th>\n",
       "      <th>Fuente</th>\n",
       "      <th>ID Contrato</th>\n",
       "      <th>ID Proceso</th>\n",
       "      <th>ID entidad Plataforma</th>\n",
       "      <th>Entidad</th>\n",
       "      <th>NIT Entidad</th>\n",
       "      <th>Orden</th>\n",
       "      <th>Modalidad</th>\n",
       "      <th>Estado</th>\n",
       "      <th>Descripción proceso</th>\n",
       "      <th>...</th>\n",
       "      <th>UNSPSC</th>\n",
       "      <th>Nombre Proveedor</th>\n",
       "      <th>Documento Proveedor</th>\n",
       "      <th>Tipo de documento proveedor</th>\n",
       "      <th>Valor del contrato</th>\n",
       "      <th>Departamento Entidad</th>\n",
       "      <th>Ciudad Entidad</th>\n",
       "      <th>Inicio de contrato</th>\n",
       "      <th>Fin de contrato</th>\n",
       "      <th>URL</th>\n",
       "    </tr>\n",
       "  </thead>\n",
       "  <tbody>\n",
       "    <tr>\n",
       "      <th>0</th>\n",
       "      <td>SECOP I</td>\n",
       "      <td>10209031382021</td>\n",
       "      <td>21-12-11830159-10958055</td>\n",
       "      <td>199000003</td>\n",
       "      <td>ESCUELA NACIONAL DEL DEPORTE</td>\n",
       "      <td>805001868</td>\n",
       "      <td>TERRITORIAL</td>\n",
       "      <td>Contratación Directa (Ley 1150 de 2007)</td>\n",
       "      <td>Celebrado</td>\n",
       "      <td>Prestación de servicios profesionales en la di...</td>\n",
       "      <td>...</td>\n",
       "      <td>801116</td>\n",
       "      <td>WILFREDO AGREDO RODRIGUEZ</td>\n",
       "      <td>16639187</td>\n",
       "      <td>Cédula de Ciudadanía</td>\n",
       "      <td>22500000</td>\n",
       "      <td>Bogotá DC</td>\n",
       "      <td>Bogotá DC</td>\n",
       "      <td>2021-03-25T00:00:00.000</td>\n",
       "      <td>2021-07-30T00:00:00.000</td>\n",
       "      <td>{'url': 'https://www.contratos.gov.co/consulta...</td>\n",
       "    </tr>\n",
       "    <tr>\n",
       "      <th>1</th>\n",
       "      <td>SECOP I</td>\n",
       "      <td>26762019</td>\n",
       "      <td>19-12-9752637-8884899</td>\n",
       "      <td>133001000</td>\n",
       "      <td>MINISTERIO DE CULTURA MINCULTURA</td>\n",
       "      <td>830034348</td>\n",
       "      <td>NACIONAL</td>\n",
       "      <td>Contratación Directa (Ley 1150 de 2007)</td>\n",
       "      <td>Celebrado</td>\n",
       "      <td>El objeto del presente contrato es Realizar el...</td>\n",
       "      <td>...</td>\n",
       "      <td>801116</td>\n",
       "      <td>LUIS MANUEL REALES MAESTRE</td>\n",
       "      <td>79955263</td>\n",
       "      <td>Cédula de Ciudadanía</td>\n",
       "      <td>23430330</td>\n",
       "      <td>Bogotá DC</td>\n",
       "      <td>Bogotá DC</td>\n",
       "      <td>2019-07-24T00:00:00.000</td>\n",
       "      <td>2019-12-25T00:00:00.000</td>\n",
       "      <td>{'url': 'https://www.contratos.gov.co/consulta...</td>\n",
       "    </tr>\n",
       "    <tr>\n",
       "      <th>2</th>\n",
       "      <td>SECOP I</td>\n",
       "      <td>SCRD0082015</td>\n",
       "      <td>15-4-3450708-3255179</td>\n",
       "      <td>276000012</td>\n",
       "      <td>VALLE DEL CAUCA  UNIVERSIDAD DEL VALLE</td>\n",
       "      <td>890399010</td>\n",
       "      <td>TERRITORIAL</td>\n",
       "      <td>Régimen Especial</td>\n",
       "      <td>Celebrado</td>\n",
       "      <td>COMPRA DE POLVO DE LADRILLO TIERRA ROJA CAL PA...</td>\n",
       "      <td>...</td>\n",
       "      <td>N/D</td>\n",
       "      <td>SERVICANCHAS Y PISICINA EU</td>\n",
       "      <td>900434754</td>\n",
       "      <td>Nit de Persona Jurídica</td>\n",
       "      <td>8491200</td>\n",
       "      <td>Valle del Cauca</td>\n",
       "      <td>Cali</td>\n",
       "      <td>2015-02-02T00:00:00.000</td>\n",
       "      <td>2015-03-04T00:00:00.000</td>\n",
       "      <td>{'url': 'https://www.contratos.gov.co/consulta...</td>\n",
       "    </tr>\n",
       "    <tr>\n",
       "      <th>3</th>\n",
       "      <td>SECOP I</td>\n",
       "      <td>mccd0612017</td>\n",
       "      <td>17-12-6903211-6272322</td>\n",
       "      <td>215212011</td>\n",
       "      <td>BOYACÁ  ALCALDÍA MUNICIPIO DE COPER</td>\n",
       "      <td>890980767-3</td>\n",
       "      <td>TERRITORIAL</td>\n",
       "      <td>Contratación Directa (Ley 1150 de 2007)</td>\n",
       "      <td>Celebrado</td>\n",
       "      <td>PRESTACIÓN DE SERVICIOS DE APOYO LOGÍSTICO EN ...</td>\n",
       "      <td>...</td>\n",
       "      <td>801116</td>\n",
       "      <td>ADRIANA TORRES SANCHEZ</td>\n",
       "      <td>23444192</td>\n",
       "      <td>Cédula de Ciudadanía</td>\n",
       "      <td>9000000</td>\n",
       "      <td>Boyacá</td>\n",
       "      <td>Coper</td>\n",
       "      <td>2017-07-13T00:00:00.000</td>\n",
       "      <td>2017-08-15T00:00:00.000</td>\n",
       "      <td>{'url': 'https://www.contratos.gov.co/consulta...</td>\n",
       "    </tr>\n",
       "    <tr>\n",
       "      <th>4</th>\n",
       "      <td>SECOP I</td>\n",
       "      <td>No definido</td>\n",
       "      <td>15-12-3642523</td>\n",
       "      <td>276001722</td>\n",
       "      <td>CUNDINAMARCA  HOSPITAL DIVINO SALVADOR DE SOPO</td>\n",
       "      <td>860023878</td>\n",
       "      <td>TERRITORIAL</td>\n",
       "      <td>Contratación Directa (Ley 1150 de 2007)</td>\n",
       "      <td>Convocado</td>\n",
       "      <td>PRESTACIÓN DE SERVICIOS DE AUXILIAR DE ESTADÍS...</td>\n",
       "      <td>...</td>\n",
       "      <td>N/D</td>\n",
       "      <td>No Definido</td>\n",
       "      <td>No Definido</td>\n",
       "      <td>No Definido</td>\n",
       "      <td>0</td>\n",
       "      <td>Cundinamarca</td>\n",
       "      <td>Sopó</td>\n",
       "      <td>NaN</td>\n",
       "      <td>NaN</td>\n",
       "      <td>{'url': 'https://www.contratos.gov.co/consulta...</td>\n",
       "    </tr>\n",
       "  </tbody>\n",
       "</table>\n",
       "<p>5 rows × 23 columns</p>\n",
       "</div>"
      ],
      "text/plain": [
       "Unificado   Fuente     ID Contrato               ID Proceso  \\\n",
       "0          SECOP I  10209031382021  21-12-11830159-10958055   \n",
       "1          SECOP I        26762019    19-12-9752637-8884899   \n",
       "2          SECOP I     SCRD0082015     15-4-3450708-3255179   \n",
       "3          SECOP I     mccd0612017    17-12-6903211-6272322   \n",
       "4          SECOP I     No definido            15-12-3642523   \n",
       "\n",
       "Unificado ID entidad Plataforma  \\\n",
       "0                     199000003   \n",
       "1                     133001000   \n",
       "2                     276000012   \n",
       "3                     215212011   \n",
       "4                     276001722   \n",
       "\n",
       "Unificado                                         Entidad  NIT Entidad  \\\n",
       "0                            ESCUELA NACIONAL DEL DEPORTE    805001868   \n",
       "1                        MINISTERIO DE CULTURA MINCULTURA    830034348   \n",
       "2                  VALLE DEL CAUCA  UNIVERSIDAD DEL VALLE    890399010   \n",
       "3                     BOYACÁ  ALCALDÍA MUNICIPIO DE COPER  890980767-3   \n",
       "4          CUNDINAMARCA  HOSPITAL DIVINO SALVADOR DE SOPO    860023878   \n",
       "\n",
       "Unificado        Orden                                Modalidad     Estado  \\\n",
       "0          TERRITORIAL  Contratación Directa (Ley 1150 de 2007)  Celebrado   \n",
       "1             NACIONAL  Contratación Directa (Ley 1150 de 2007)  Celebrado   \n",
       "2          TERRITORIAL                         Régimen Especial  Celebrado   \n",
       "3          TERRITORIAL  Contratación Directa (Ley 1150 de 2007)  Celebrado   \n",
       "4          TERRITORIAL  Contratación Directa (Ley 1150 de 2007)  Convocado   \n",
       "\n",
       "Unificado                                Descripción proceso  ...  UNSPSC  \\\n",
       "0          Prestación de servicios profesionales en la di...  ...  801116   \n",
       "1          El objeto del presente contrato es Realizar el...  ...  801116   \n",
       "2          COMPRA DE POLVO DE LADRILLO TIERRA ROJA CAL PA...  ...     N/D   \n",
       "3          PRESTACIÓN DE SERVICIOS DE APOYO LOGÍSTICO EN ...  ...  801116   \n",
       "4          PRESTACIÓN DE SERVICIOS DE AUXILIAR DE ESTADÍS...  ...     N/D   \n",
       "\n",
       "Unificado            Nombre Proveedor Documento Proveedor  \\\n",
       "0           WILFREDO AGREDO RODRIGUEZ            16639187   \n",
       "1          LUIS MANUEL REALES MAESTRE            79955263   \n",
       "2          SERVICANCHAS Y PISICINA EU           900434754   \n",
       "3              ADRIANA TORRES SANCHEZ            23444192   \n",
       "4                         No Definido         No Definido   \n",
       "\n",
       "Unificado Tipo de documento proveedor Valor del contrato Departamento Entidad  \\\n",
       "0                Cédula de Ciudadanía           22500000            Bogotá DC   \n",
       "1                Cédula de Ciudadanía           23430330            Bogotá DC   \n",
       "2             Nit de Persona Jurídica            8491200      Valle del Cauca   \n",
       "3                Cédula de Ciudadanía            9000000               Boyacá   \n",
       "4                         No Definido                  0         Cundinamarca   \n",
       "\n",
       "Unificado Ciudad Entidad       Inicio de contrato          Fin de contrato  \\\n",
       "0              Bogotá DC  2021-03-25T00:00:00.000  2021-07-30T00:00:00.000   \n",
       "1              Bogotá DC  2019-07-24T00:00:00.000  2019-12-25T00:00:00.000   \n",
       "2                   Cali  2015-02-02T00:00:00.000  2015-03-04T00:00:00.000   \n",
       "3                  Coper  2017-07-13T00:00:00.000  2017-08-15T00:00:00.000   \n",
       "4                   Sopó                      NaN                      NaN   \n",
       "\n",
       "Unificado                                                URL  \n",
       "0          {'url': 'https://www.contratos.gov.co/consulta...  \n",
       "1          {'url': 'https://www.contratos.gov.co/consulta...  \n",
       "2          {'url': 'https://www.contratos.gov.co/consulta...  \n",
       "3          {'url': 'https://www.contratos.gov.co/consulta...  \n",
       "4          {'url': 'https://www.contratos.gov.co/consulta...  \n",
       "\n",
       "[5 rows x 23 columns]"
      ]
     },
     "execution_count": 25,
     "metadata": {},
     "output_type": "execute_result"
    }
   ],
   "source": [
    "Consulta.head()"
   ]
  },
  {
   "cell_type": "code",
   "execution_count": 26,
   "metadata": {},
   "outputs": [],
   "source": [
    "Consulta.to_csv('..\\..\\..\\Sample_Data\\Raw\\Consulta_total.csv',index=False)"
   ]
  },
  {
   "cell_type": "code",
   "execution_count": 27,
   "metadata": {},
   "outputs": [
    {
     "data": {
      "text/plain": [
       "(200, 23)"
      ]
     },
     "execution_count": 27,
     "metadata": {},
     "output_type": "execute_result"
    }
   ],
   "source": [
    "Consulta.shape"
   ]
  },
  {
   "cell_type": "code",
   "execution_count": null,
   "metadata": {},
   "outputs": [],
   "source": []
  }
 ],
 "metadata": {
  "kernelspec": {
   "display_name": "Python 3",
   "language": "python",
   "name": "python3"
  },
  "language_info": {
   "codemirror_mode": {
    "name": "ipython",
    "version": 3
   },
   "file_extension": ".py",
   "mimetype": "text/x-python",
   "name": "python",
   "nbconvert_exporter": "python",
   "pygments_lexer": "ipython3",
   "version": "3.11.2"
  },
  "orig_nbformat": 4
 },
 "nbformat": 4,
 "nbformat_minor": 2
}
